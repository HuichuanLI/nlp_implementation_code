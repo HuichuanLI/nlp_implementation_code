{
 "cells": [
  {
   "cell_type": "markdown",
   "metadata": {
    "id": "fOaCES6J_FKK"
   },
   "source": [
    "# Hugging Face transformers \n",
    "\n",
    "Hugging Face is an organization that is on a path to solve and democratize AI through natural language. Their open-source library 'transformers'  is very popular among the NLP community. It is very useful and powerful for several NLP and NLU tasks. It includes thousands of pre-trained models in about 100+ languages. One of the many advantages of the transformer library is that it is compatible with both PyTorch and TensorFlow.\n",
    "\n",
    "We can install transformers directly using pip as shown in the following: \n"
   ]
  },
  {
   "cell_type": "code",
   "execution_count": null,
   "metadata": {
    "id": "o7PQZSHt_FKT"
   },
   "outputs": [],
   "source": [
    "%%capture\n",
    "!pip install transformers==3.5.1"
   ]
  },
  {
   "cell_type": "code",
   "execution_count": null,
   "metadata": {},
   "outputs": [],
   "source": [
    "!pip install sentencepiece"
   ]
  },
  {
   "cell_type": "code",
   "execution_count": null,
   "metadata": {},
   "outputs": [],
   "source": [
    "!pip install --upgrade setuptools\n"
   ]
  },
  {
   "cell_type": "code",
   "execution_count": null,
   "metadata": {},
   "outputs": [],
   "source": [
    "!pip list | grep -i \"sentencepiece\""
   ]
  },
  {
   "cell_type": "code",
   "execution_count": null,
   "metadata": {
    "scrolled": true
   },
   "outputs": [],
   "source": [
    "!pip install sentencepiece==0.1.91"
   ]
  },
  {
   "cell_type": "code",
   "execution_count": null,
   "metadata": {},
   "outputs": [],
   "source": [
    "!pip install transformers==3.5.1"
   ]
  },
  {
   "cell_type": "markdown",
   "metadata": {
    "id": "5ehF5uSR_FKZ"
   },
   "source": [
    "\n",
    "As we can see, in this book, we use transformers version 3.5.1. Now that we installed transformers, let's get started. "
   ]
  },
  {
   "cell_type": "markdown",
   "metadata": {
    "id": "wi1Nq51R_FKc"
   },
   "source": [
    "# Generating BERT embedding \n",
    "In this section, we will learn how to extract embeddings from the pre-trained BERT. Consider the sentence 'I love Paris'. Let's see how to obtain the contextualized word embedding of all the words in the sentence using the pre-trained BERT model with Hugging Face's transformer library. \n",
    "\n",
    "First, let's import the necessary modules:"
   ]
  },
  {
   "cell_type": "code",
   "execution_count": 1,
   "metadata": {
    "id": "qmWTWzRX_FKe"
   },
   "outputs": [],
   "source": [
    "from transformers import BertModel, BertTokenizer\n",
    "import torch"
   ]
  },
  {
   "cell_type": "markdown",
   "metadata": {
    "id": "zFPzX86E_FKh"
   },
   "source": [
    "Next, we download the pre-trained BERT model. We can check all the available pre-trained BERT models here - https://huggingface.co/transformers/pre-trained_models.html.We use the 'bert-base-uncased' model. As the name suggests, it is the BERT-base model with 12 encoders and it is trained with uncased tokens. Since we are using the BERT-base, the representation size will be 768. \n",
    "\n",
    "Download and load the pre-trained bert-base-uncasedmodel:"
   ]
  },
  {
   "cell_type": "code",
   "execution_count": 2,
   "metadata": {
    "colab": {
     "base_uri": "https://localhost:8080/",
     "height": 115,
     "referenced_widgets": [
      "1758400be5b14d1383a14be51f129388",
      "66169204df0344a78bb29b5c66235f38",
      "96a5d14686674cebaab3fe3457579f15",
      "71872c1d14f04434a502db8328803169",
      "a54875acc17044a0b6683d9cc94ed95c",
      "e900b312c23641549d729f1e9f98849a",
      "6e66fccb4d4e4518acdefab5a51c9708",
      "d07c2f696ad544b7833925b73219da72",
      "e79a470be88c4c2e9c5a7cc7e3eca6b1",
      "2320668b356245449a2ba6991e21dc71",
      "8c195883eb9f453781baf994903a07c4",
      "420c835be5304faeb77864c5f924b768",
      "ab9cede857e142f69b227bd15e7ac825",
      "08fc204525d24f0ca56c42c2890737ca",
      "f7a38dcc24f14a298d540d8827554757",
      "084587c872cb464f8afc0f88e6b33452"
     ]
    },
    "id": "swqqjz08_FKj",
    "outputId": "e1ca7551-d012-41d0-e38e-d46c3169d9b8"
   },
   "outputs": [
    {
     "name": "stderr",
     "output_type": "stream",
     "text": [
      "Some weights of the model checkpoint at bert-base-uncased were not used when initializing BertModel: ['cls.predictions.transform.LayerNorm.weight', 'cls.predictions.transform.LayerNorm.bias', 'cls.seq_relationship.weight', 'cls.seq_relationship.bias', 'cls.predictions.bias', 'cls.predictions.transform.dense.bias', 'cls.predictions.transform.dense.weight', 'cls.predictions.decoder.weight']\n",
      "- This IS expected if you are initializing BertModel from the checkpoint of a model trained on another task or with another architecture (e.g. initializing a BertForSequenceClassification model from a BertForPreTraining model).\n",
      "- This IS NOT expected if you are initializing BertModel from the checkpoint of a model that you expect to be exactly identical (initializing a BertForSequenceClassification model from a BertForSequenceClassification model).\n"
     ]
    }
   ],
   "source": [
    "model = BertModel.from_pretrained('bert-base-uncased')"
   ]
  },
  {
   "cell_type": "markdown",
   "metadata": {
    "id": "KODXve4P_FKl"
   },
   "source": [
    "Next, we download and load the tokenizer which is used for pretraining the bert-base-uncased model: "
   ]
  },
  {
   "cell_type": "code",
   "execution_count": 3,
   "metadata": {
    "colab": {
     "base_uri": "https://localhost:8080/",
     "height": 66,
     "referenced_widgets": [
      "a1fc82d07a6c4a46bef6b105b3f53bac",
      "b36a5b3e28394ee39058c537572ecd72",
      "67196c8f26d3422daf6c27589757b480",
      "7d1ef8f4cbfe46e1a8f9d6f6c944e93a",
      "6835f5dcea2e4832a1dc76dc28e24dd0",
      "7de7bcd4a0d841298de7f5ac7e5cc81c",
      "c9bc07b32ba54e3cbe26bf13aec9ece9",
      "8c7da9ea9fec4e7fbdc6ad56ee63c33f"
     ]
    },
    "id": "lPHa9dI5_FKn",
    "outputId": "06f9ae89-87b2-49d4-c898-60d13a34c20d"
   },
   "outputs": [],
   "source": [
    "tokenizer = BertTokenizer.from_pretrained('bert-base-uncased')"
   ]
  },
  {
   "cell_type": "markdown",
   "metadata": {
    "id": "qIHYHG5A_FKr"
   },
   "source": [
    "\n",
    "Now, let's see how to preprocess the input before feeding it to the BERT. \n"
   ]
  },
  {
   "cell_type": "markdown",
   "metadata": {
    "id": "j8El2dcG_FKs"
   },
   "source": [
    "## Preprocessing the input \n",
    "Define the sentence:"
   ]
  },
  {
   "cell_type": "code",
   "execution_count": 4,
   "metadata": {
    "id": "8Hkc5o3B_FKu"
   },
   "outputs": [],
   "source": [
    "sentence = 'I love Paris'"
   ]
  },
  {
   "cell_type": "markdown",
   "metadata": {
    "id": "FVn3-2XM_FKv"
   },
   "source": [
    "Tokenize the sentence and obtain the tokens:"
   ]
  },
  {
   "cell_type": "code",
   "execution_count": 5,
   "metadata": {
    "id": "4Ui-3oWr_FKw"
   },
   "outputs": [],
   "source": [
    "tokens = tokenizer.tokenize(sentence)"
   ]
  },
  {
   "cell_type": "markdown",
   "metadata": {
    "id": "RSYRLcvV_FKy"
   },
   "source": [
    "Let's print the tokens:"
   ]
  },
  {
   "cell_type": "code",
   "execution_count": 6,
   "metadata": {
    "colab": {
     "base_uri": "https://localhost:8080/"
    },
    "id": "CGHtPj5H_FKz",
    "outputId": "96afb8ca-8565-4b69-dad2-fc9471dd7227"
   },
   "outputs": [
    {
     "name": "stdout",
     "output_type": "stream",
     "text": [
      "['i', 'love', 'paris']\n"
     ]
    }
   ],
   "source": [
    "print(tokens)"
   ]
  },
  {
   "cell_type": "markdown",
   "metadata": {
    "id": "rL8VgpcM_FK0"
   },
   "source": [
    "Now, we will add the [CLS] token at the beginning and [SEP] token at the end of the tokens list: "
   ]
  },
  {
   "cell_type": "code",
   "execution_count": 7,
   "metadata": {
    "id": "3CpARvDc_FK0"
   },
   "outputs": [],
   "source": [
    "tokens = ['[CLS]'] + tokens + ['[SEP]']"
   ]
  },
  {
   "cell_type": "markdown",
   "metadata": {
    "id": "jbFEyrk7_FK2"
   },
   "source": [
    "Let's look at our updated tokens list:"
   ]
  },
  {
   "cell_type": "code",
   "execution_count": 8,
   "metadata": {
    "colab": {
     "base_uri": "https://localhost:8080/"
    },
    "id": "Uaf_JScw_FK3",
    "outputId": "82f09500-1324-4022-9b5a-e165716c2443"
   },
   "outputs": [
    {
     "name": "stdout",
     "output_type": "stream",
     "text": [
      "['[CLS]', 'i', 'love', 'paris', '[SEP]']\n"
     ]
    }
   ],
   "source": [
    "print(tokens)"
   ]
  },
  {
   "cell_type": "markdown",
   "metadata": {
    "id": "wVD29L7A_FK3"
   },
   "source": [
    "As we can observe, we have [CLS] token at the beginning and sep token at the end of our tokens list. We can also observe that length of our tokens is 5.\n",
    "\n",
    "Say, we need to keep the length of our tokens list to 7, then, in that case, we will add two [PAD] tokens at the end as shown in the following:\n",
    "\n"
   ]
  },
  {
   "cell_type": "code",
   "execution_count": 9,
   "metadata": {
    "id": "cqMI--rA_FK4"
   },
   "outputs": [],
   "source": [
    "tokens = tokens + ['[PAD]'] + ['[PAD]']"
   ]
  },
  {
   "cell_type": "markdown",
   "metadata": {
    "id": "XEEHs7CV_FK6"
   },
   "source": [
    "Let's print our updated tokens list:"
   ]
  },
  {
   "cell_type": "code",
   "execution_count": 10,
   "metadata": {
    "colab": {
     "base_uri": "https://localhost:8080/"
    },
    "id": "2tKmh_hk_FK6",
    "outputId": "31926f5d-4329-4c21-fc57-b3318b8f0c30"
   },
   "outputs": [
    {
     "name": "stdout",
     "output_type": "stream",
     "text": [
      "['[CLS]', 'i', 'love', 'paris', '[SEP]', '[PAD]', '[PAD]']\n"
     ]
    }
   ],
   "source": [
    "print(tokens)"
   ]
  },
  {
   "cell_type": "markdown",
   "metadata": {
    "id": "aPd9TPWE_FK7"
   },
   "source": [
    "\n",
    "\n",
    "As we can observe, now we have the tokens list consists of [PAD] tokens and the length of our tokens list is 7. \n",
    "\n",
    "Next, we create the attention mask. We set the attention mask value to 1 if the token is not a [PAD] token else we will set the attention mask to 0 as shown below:\n",
    "\n"
   ]
  },
  {
   "cell_type": "code",
   "execution_count": 11,
   "metadata": {
    "id": "3SbiaBws_FK8"
   },
   "outputs": [],
   "source": [
    "attention_mask = [1 if i!= '[PAD]' else 0 for i in tokens]"
   ]
  },
  {
   "cell_type": "markdown",
   "metadata": {
    "id": "SELKgxsG_FK9"
   },
   "source": [
    "Let's print the attention_mask:"
   ]
  },
  {
   "cell_type": "code",
   "execution_count": 12,
   "metadata": {
    "colab": {
     "base_uri": "https://localhost:8080/"
    },
    "id": "NmtZKFFq_FK-",
    "outputId": "83e13594-2f24-427d-cd99-bfba8930adaf"
   },
   "outputs": [
    {
     "name": "stdout",
     "output_type": "stream",
     "text": [
      "[1, 1, 1, 1, 1, 0, 0]\n"
     ]
    }
   ],
   "source": [
    "print(attention_mask)"
   ]
  },
  {
   "cell_type": "markdown",
   "metadata": {
    "id": "qvtvC8HW_FK-"
   },
   "source": [
    "\n",
    "As we can observe, we have attention mask values 0 at the position where have [PAD] token and 1 at other positions. \n",
    "\n",
    "Next, we convert all the tokens to their token_ids as shown below: \n"
   ]
  },
  {
   "cell_type": "code",
   "execution_count": 13,
   "metadata": {
    "id": "KGbsHfxL_FK_"
   },
   "outputs": [],
   "source": [
    "token_ids = tokenizer.convert_tokens_to_ids(tokens)"
   ]
  },
  {
   "cell_type": "markdown",
   "metadata": {
    "id": "zaQWwz_y_FK_"
   },
   "source": [
    "\n",
    "Let's have a look at the token_ids:"
   ]
  },
  {
   "cell_type": "code",
   "execution_count": 14,
   "metadata": {
    "colab": {
     "base_uri": "https://localhost:8080/"
    },
    "id": "iih_wWeT_FLA",
    "outputId": "f83bd6c5-300a-4c1a-fac9-dc54db1e157b"
   },
   "outputs": [
    {
     "name": "stdout",
     "output_type": "stream",
     "text": [
      "[101, 1045, 2293, 3000, 102, 0, 0]\n"
     ]
    }
   ],
   "source": [
    "print(token_ids)"
   ]
  },
  {
   "cell_type": "markdown",
   "metadata": {
    "id": "S9RL1cBs_FLA"
   },
   "source": [
    "\n",
    "From the above output, we can observe that each token is mapped to a unique token id.\n",
    "\n",
    "Now, we convert the token_ids and attention_mask to tensors as shown below:"
   ]
  },
  {
   "cell_type": "code",
   "execution_count": 15,
   "metadata": {
    "id": "KQzsDUez_FLB"
   },
   "outputs": [],
   "source": [
    "token_ids = torch.tensor(token_ids).unsqueeze(0)\n",
    "attention_mask = torch.tensor(attention_mask).unsqueeze(0)"
   ]
  },
  {
   "cell_type": "code",
   "execution_count": 18,
   "metadata": {},
   "outputs": [
    {
     "data": {
      "text/plain": [
       "tensor([[1, 1, 1, 1, 1, 0, 0]])"
      ]
     },
     "execution_count": 18,
     "metadata": {},
     "output_type": "execute_result"
    }
   ],
   "source": [
    "attention_mask"
   ]
  },
  {
   "cell_type": "markdown",
   "metadata": {
    "id": "pQn5de_a_FLC"
   },
   "source": [
    "\n",
    "That's it. Next, we feed the token_ids and attention_mask to the pre-trained BERT model and get the embedding. "
   ]
  },
  {
   "cell_type": "markdown",
   "metadata": {
    "id": "qYIDWAO-_FLD"
   },
   "source": [
    "## Getting the embedding \n",
    "\n",
    "As shown in the following code, we feed the token_ids, and attention_mask to the model and get the embeddings. Note that the model returns the output as a tuple with two values. The first value indicates the hidden state representation, hidden_rep and it consists of the representation of all the tokens obtained from the final encoder (encoder 12), and the second value, cls_head consists of the representation of the [CLS] token: "
   ]
  },
  {
   "cell_type": "code",
   "execution_count": 22,
   "metadata": {
    "id": "Rh-Ohh71_FLE"
   },
   "outputs": [],
   "source": [
    "hidden_rep, cls_head = model(token_ids, attention_mask = attention_mask,return_dict=False)"
   ]
  },
  {
   "cell_type": "code",
   "execution_count": 23,
   "metadata": {},
   "outputs": [
    {
     "data": {
      "text/plain": [
       "tensor([[-9.0660e-01, -3.4189e-01, -3.3729e-01,  7.7140e-01,  6.0976e-02,\n",
       "         -1.0525e-01,  9.0143e-01,  2.5822e-01, -2.7881e-01, -9.9997e-01,\n",
       "         -1.0322e-01,  7.4773e-01,  9.8521e-01,  5.9799e-02,  9.4447e-01,\n",
       "         -5.9859e-01, -2.0539e-01, -5.7386e-01,  3.7684e-01, -7.5183e-01,\n",
       "          6.6604e-01,  9.9584e-01,  4.2231e-01,  2.2824e-01,  4.9139e-01,\n",
       "          9.2378e-01, -6.6123e-01,  9.3111e-01,  9.6157e-01,  6.8816e-01,\n",
       "         -6.7706e-01,  1.2696e-01, -9.8735e-01, -1.3884e-01, -4.2742e-01,\n",
       "         -9.9151e-01,  3.1577e-01, -7.9245e-01,  1.1233e-01,  2.5441e-02,\n",
       "         -9.0001e-01,  2.9572e-01,  9.9972e-01,  2.9507e-02,  9.4610e-02,\n",
       "         -2.3375e-01, -1.0000e+00,  2.1042e-01, -8.8451e-01,  4.4717e-01,\n",
       "          2.8363e-01,  2.3094e-01,  1.6396e-01,  4.6484e-01,  4.1578e-01,\n",
       "          1.0880e-01, -6.9020e-02,  1.0251e-01, -1.8506e-01, -5.5142e-01,\n",
       "         -5.4772e-01,  3.2660e-01, -4.7119e-01, -9.0760e-01,  4.0407e-01,\n",
       "          8.4499e-03, -5.0540e-02, -2.2187e-01, -3.5096e-02, -1.5909e-01,\n",
       "          8.6302e-01,  2.0347e-01,  2.2685e-01, -8.1223e-01,  8.9117e-02,\n",
       "          1.9976e-01, -5.3915e-01,  1.0000e+00, -5.2943e-01, -9.8107e-01,\n",
       "          1.2215e-01,  1.7052e-01,  4.4200e-01,  2.9078e-01, -2.2429e-01,\n",
       "         -1.0000e+00,  4.5435e-01, -1.0752e-01, -9.8928e-01,  1.9557e-01,\n",
       "          3.7944e-01, -1.3400e-01, -3.7233e-01,  4.8776e-01, -2.7150e-01,\n",
       "         -2.9951e-01, -2.5372e-01, -3.0055e-01, -1.6436e-01, -2.0432e-01,\n",
       "          4.5898e-02, -1.5984e-01, -6.8893e-02, -2.8614e-01,  2.0454e-01,\n",
       "         -4.2329e-01, -6.0077e-01,  2.4896e-01, -2.7211e-01,  6.3257e-01,\n",
       "          2.8514e-01, -2.4841e-01,  3.5746e-01, -9.6110e-01,  6.6496e-01,\n",
       "         -2.5975e-01, -9.8228e-01, -5.0323e-01, -9.8950e-01,  7.1751e-01,\n",
       "          3.3974e-02, -1.6794e-01,  9.6757e-01,  3.7200e-01,  2.8462e-01,\n",
       "         -2.2424e-02, -3.7636e-01, -1.0000e+00, -5.5433e-01, -1.5097e-01,\n",
       "          1.1861e-01, -2.0500e-01, -9.7818e-01, -9.4408e-01,  6.0784e-01,\n",
       "          9.5020e-01,  9.3145e-02,  9.9944e-01, -3.1656e-01,  9.3937e-01,\n",
       "          1.0257e-02, -3.0524e-01,  1.3859e-01, -4.5599e-01,  4.7351e-01,\n",
       "          3.6347e-01, -7.3368e-01,  1.5255e-01, -4.4811e-02,  2.6415e-01,\n",
       "         -2.6249e-01, -2.5647e-01, -1.9468e-01, -9.3597e-01, -3.6595e-01,\n",
       "          9.4583e-01, -6.5555e-02, -4.0125e-01,  5.3403e-01, -2.8004e-01,\n",
       "         -3.8514e-01,  8.5284e-01,  3.8798e-01,  3.1723e-01, -9.4208e-02,\n",
       "          4.4104e-01, -1.2676e-01,  5.5534e-01, -8.1261e-01,  1.4222e-02,\n",
       "          4.3945e-01, -2.3209e-01, -1.5539e-01, -9.8027e-01, -3.1189e-01,\n",
       "          4.7667e-01,  9.8781e-01,  7.5918e-01,  2.3170e-01,  5.0506e-01,\n",
       "         -1.5959e-01,  5.4271e-01, -9.5258e-01,  9.7944e-01, -2.4452e-01,\n",
       "          2.3859e-01,  4.9278e-01,  1.4287e-01, -8.5605e-01, -3.0050e-01,\n",
       "          8.2882e-01, -5.1995e-01, -8.5260e-01,  8.5934e-02, -4.4540e-01,\n",
       "         -3.9270e-01, -1.5282e-01,  5.1311e-01, -2.6343e-01, -3.6877e-01,\n",
       "          2.9660e-02,  9.0136e-01,  9.7166e-01,  8.2276e-01, -3.7987e-01,\n",
       "          6.0987e-01, -9.1858e-01, -4.1369e-01,  8.5551e-02,  2.2591e-01,\n",
       "          1.2908e-01,  9.9388e-01, -5.4387e-02, -1.7653e-01, -9.3923e-01,\n",
       "         -9.8710e-01, -5.6532e-02, -9.0781e-01, -3.8273e-02, -6.4293e-01,\n",
       "          4.0239e-01,  4.5160e-01,  1.6601e-01,  4.0908e-01, -9.9176e-01,\n",
       "         -7.7417e-01,  3.3418e-01, -3.0262e-01,  4.0393e-01, -2.2568e-01,\n",
       "          3.4403e-01,  6.5064e-01, -5.2289e-01,  7.9253e-01,  8.5089e-01,\n",
       "         -9.9034e-02, -6.6476e-01,  8.4785e-01, -2.3960e-01,  8.9095e-01,\n",
       "         -6.0081e-01,  9.8772e-01,  5.2637e-01,  7.1539e-01, -9.4382e-01,\n",
       "         -2.6947e-02, -8.9317e-01, -2.5833e-01, -5.0680e-02, -4.4805e-01,\n",
       "          4.6222e-01,  4.8956e-01,  3.5595e-01,  7.6262e-01, -6.2524e-01,\n",
       "          9.9796e-01, -3.9808e-01, -9.5422e-01,  2.1079e-01, -2.4096e-01,\n",
       "         -9.8628e-01,  4.0971e-01,  2.0490e-01, -4.3229e-01, -3.5297e-01,\n",
       "         -4.6596e-01, -9.5645e-01,  9.1401e-01,  7.0785e-02,  9.9075e-01,\n",
       "          6.7393e-03, -9.3715e-01, -4.8485e-01, -9.1042e-01, -2.1888e-01,\n",
       "         -1.3952e-01,  3.0265e-01, -2.1077e-01, -9.6109e-01,  4.5869e-01,\n",
       "          4.8165e-01,  4.8832e-01, -1.0897e-01,  9.9831e-01,  9.9998e-01,\n",
       "          9.7482e-01,  8.9820e-01,  9.0949e-01, -9.8556e-01, -2.5523e-01,\n",
       "          9.9999e-01, -9.0774e-01, -1.0000e+00, -9.2744e-01, -5.5746e-01,\n",
       "          2.4192e-01, -1.0000e+00, -3.7209e-02,  5.3762e-02, -9.2917e-01,\n",
       "         -1.7545e-02,  9.8157e-01,  9.9313e-01, -1.0000e+00,  8.6012e-01,\n",
       "          9.4574e-01, -5.6222e-01,  7.5814e-01, -2.3953e-01,  9.7340e-01,\n",
       "          3.6503e-01,  2.8978e-01, -2.3095e-01,  3.4518e-01, -4.6774e-01,\n",
       "         -8.5951e-01,  4.7866e-02, -9.3613e-02,  9.0046e-01,  9.4787e-02,\n",
       "         -7.3987e-01, -9.4770e-01,  1.3531e-01, -1.3985e-01, -2.2744e-01,\n",
       "         -9.6028e-01, -7.6159e-02,  2.8726e-01,  7.1045e-01,  8.1054e-02,\n",
       "          2.3858e-01, -7.8597e-01,  1.9432e-01, -6.5189e-01,  4.5484e-01,\n",
       "          5.9485e-01, -9.5303e-01, -6.7571e-01, -1.6829e-01, -2.6858e-01,\n",
       "         -1.8852e-02, -9.3974e-01,  9.7244e-01, -4.1418e-01,  5.5397e-01,\n",
       "          1.0000e+00,  6.7242e-02, -9.0357e-01,  3.8333e-01,  1.7075e-01,\n",
       "          9.1031e-02,  1.0000e+00,  6.6256e-01, -9.7822e-01, -4.7003e-01,\n",
       "          4.8857e-01, -4.7954e-01, -4.4943e-01,  9.9902e-01, -2.4455e-01,\n",
       "          2.7923e-02,  2.6862e-01,  9.7364e-01, -9.9015e-01,  8.2752e-01,\n",
       "         -9.1195e-01, -9.6930e-01,  9.6406e-01,  9.3691e-01, -3.6014e-01,\n",
       "         -7.0250e-01,  1.0417e-01, -1.8180e-01,  2.3008e-01, -9.6799e-01,\n",
       "          6.9217e-01,  4.2966e-01, -1.0165e-01,  9.0773e-01, -8.7691e-01,\n",
       "         -4.3018e-01,  3.5562e-01, -2.2115e-01,  1.6860e-01,  4.9965e-01,\n",
       "          5.1945e-01, -1.8539e-01,  1.0172e-01, -2.1061e-01,  3.3845e-03,\n",
       "         -9.7327e-01,  1.3324e-01,  1.0000e+00, -7.5042e-02,  3.6619e-02,\n",
       "         -3.9262e-01, -6.5350e-03, -2.7287e-01,  3.9574e-01,  3.9382e-01,\n",
       "         -3.0707e-01, -8.4807e-01,  3.8420e-01, -9.5470e-01, -9.8489e-01,\n",
       "          7.6798e-01,  1.4348e-01, -2.8546e-01,  9.9994e-01,  4.1163e-01,\n",
       "          1.6070e-01,  1.2186e-01,  8.2578e-01, -5.7293e-02,  5.6674e-01,\n",
       "          1.8886e-01,  9.7533e-01, -1.4569e-01,  4.8805e-01,  8.5755e-01,\n",
       "         -4.0104e-01, -2.8342e-01, -6.4264e-01, -5.3022e-03, -9.0426e-01,\n",
       "          6.8658e-03, -9.5985e-01,  9.6273e-01,  5.4771e-01,  2.7272e-01,\n",
       "          1.1672e-01,  1.8696e-01,  1.0000e+00,  1.3563e-01,  5.7521e-01,\n",
       "         -5.4665e-01,  8.8256e-01, -9.7980e-01, -8.2186e-01, -3.9412e-01,\n",
       "          6.9254e-02, -2.4739e-01, -2.4468e-01,  2.2320e-01, -9.7092e-01,\n",
       "          1.6613e-01,  2.7089e-01, -9.8789e-01, -9.9264e-01,  1.4982e-01,\n",
       "          7.7813e-01,  7.5834e-02, -7.5816e-01, -6.9681e-01, -5.4449e-01,\n",
       "          4.2848e-01, -2.6814e-01, -9.4467e-01,  2.8672e-01, -1.7200e-01,\n",
       "          4.9967e-01, -1.7855e-01,  4.6067e-01,  1.0443e-01,  8.0958e-01,\n",
       "          3.0960e-01,  1.1103e-01,  2.0682e-02, -7.7644e-01,  7.9258e-01,\n",
       "         -8.3320e-01, -4.5220e-01, -9.7232e-02,  1.0000e+00, -4.7325e-01,\n",
       "          2.6074e-01,  7.4868e-01,  7.9047e-01, -1.2065e-01,  1.6631e-01,\n",
       "          4.3811e-01,  1.9812e-01, -1.2819e-01, -1.4429e-01, -7.9943e-01,\n",
       "         -3.4779e-01,  5.3907e-01, -2.8876e-01, -1.2784e-01,  7.8907e-01,\n",
       "          2.7644e-01,  1.2553e-01,  9.6569e-02, -8.6075e-04,  9.9958e-01,\n",
       "         -2.4824e-01, -1.9148e-01, -4.8891e-01,  3.5458e-02, -3.5075e-01,\n",
       "         -4.9195e-01,  1.0000e+00,  3.1492e-01,  1.3190e-01, -9.9190e-01,\n",
       "         -2.3020e-01, -9.1818e-01,  9.9990e-01,  8.1607e-01, -8.3672e-01,\n",
       "          5.7710e-01,  5.4205e-01, -6.0925e-02,  8.1453e-01, -1.8440e-01,\n",
       "         -1.1731e-01,  2.2679e-01,  4.9845e-02,  9.6623e-01, -4.2748e-01,\n",
       "         -9.6389e-01, -5.0603e-01,  3.6750e-01, -9.6186e-01,  9.8817e-01,\n",
       "         -4.9461e-01, -1.6667e-01, -2.8972e-01,  5.0911e-02,  7.1987e-01,\n",
       "          3.2723e-02, -9.8163e-01, -1.8460e-01,  2.4921e-02,  9.6903e-01,\n",
       "          1.4459e-01, -5.1089e-01, -9.1297e-01,  1.9776e-01,  3.1596e-01,\n",
       "         -3.4459e-01, -9.5039e-01,  9.7347e-01, -9.8541e-01,  5.6550e-01,\n",
       "          1.0000e+00,  1.6803e-01, -5.2763e-01,  1.7335e-01, -3.5292e-01,\n",
       "          2.4425e-01, -1.6083e-01,  5.5743e-01, -9.5780e-01, -2.7111e-01,\n",
       "         -1.5769e-01,  3.2735e-01, -1.9443e-01,  5.6067e-02,  7.1469e-01,\n",
       "          1.4012e-01, -4.5109e-01, -5.5167e-01, -5.8711e-02,  4.0066e-01,\n",
       "          8.0510e-01, -2.4921e-01, -1.1596e-01,  8.1007e-02, -6.8707e-02,\n",
       "         -9.5142e-01, -3.0857e-01, -3.3517e-01, -9.9849e-01,  5.8358e-01,\n",
       "         -1.0000e+00, -1.7749e-02, -3.8238e-01, -2.0135e-01,  8.2339e-01,\n",
       "          7.3315e-02,  2.2555e-01, -7.3748e-01, -1.5620e-01,  7.2231e-01,\n",
       "          7.8650e-01, -2.6355e-01, -2.3780e-01, -7.5355e-01,  2.1576e-01,\n",
       "          3.3275e-03,  3.2797e-01, -1.6445e-01,  7.0653e-01, -1.6586e-01,\n",
       "          1.0000e+00,  3.6853e-02, -5.5209e-01, -9.7956e-01,  2.1084e-01,\n",
       "         -2.2580e-01,  9.9999e-01, -9.0543e-01, -9.5194e-01,  3.5803e-01,\n",
       "         -5.4486e-01, -8.3170e-01,  2.0722e-01, -1.1187e-01, -7.1528e-01,\n",
       "         -6.5816e-01,  9.5457e-01,  8.6705e-01, -4.6680e-01,  4.5275e-01,\n",
       "         -2.8203e-01, -5.2516e-01,  2.4673e-02,  2.3666e-01,  9.8751e-01,\n",
       "          1.6960e-01,  9.1254e-01,  3.8520e-01, -5.2774e-02,  9.6522e-01,\n",
       "          2.1477e-01,  6.8869e-01,  1.3419e-01,  1.0000e+00,  2.5379e-01,\n",
       "         -9.1662e-01,  1.8445e-01, -9.8539e-01, -1.7379e-01, -9.5886e-01,\n",
       "          2.4864e-01,  1.0564e-01,  8.8982e-01, -1.9566e-01,  9.6709e-01,\n",
       "         -1.6387e-01,  6.2168e-02, -3.2528e-01,  2.9287e-01,  3.6544e-01,\n",
       "         -9.2183e-01, -9.8603e-01, -9.8862e-01,  5.1165e-01, -4.1985e-01,\n",
       "         -5.2828e-02,  2.2914e-01,  1.5558e-01,  3.7237e-01,  4.2995e-01,\n",
       "         -1.0000e+00,  9.4092e-01,  3.5116e-01,  2.6950e-01,  9.6724e-01,\n",
       "          5.0886e-01,  4.4842e-01,  1.9517e-01, -9.8747e-01, -9.7901e-01,\n",
       "         -3.3062e-01, -2.0128e-01,  7.6804e-01,  6.3693e-01,  8.5249e-01,\n",
       "          4.2277e-01, -4.5014e-01, -8.7409e-02,  2.3122e-01, -4.1254e-01,\n",
       "         -9.9309e-01,  3.7523e-01, -9.7384e-02, -9.7192e-01,  9.5663e-01,\n",
       "         -3.8314e-01, -9.1959e-02,  3.2168e-01, -2.1239e-01,  9.5619e-01,\n",
       "          8.0648e-01,  4.8650e-01,  1.0678e-01,  4.6444e-01,  9.2019e-01,\n",
       "          9.4756e-01,  9.8960e-01, -3.1468e-01,  7.9191e-01, -2.3371e-01,\n",
       "          4.0808e-01,  4.0834e-01, -9.2244e-01,  8.3447e-02,  1.1936e-01,\n",
       "         -1.6753e-01,  2.4999e-01, -1.7787e-01, -9.7539e-01,  4.0304e-01,\n",
       "         -2.3984e-01,  4.3153e-01, -4.0423e-01,  1.3859e-01, -3.7546e-01,\n",
       "         -1.1792e-01, -6.6992e-01, -5.7544e-01,  5.6841e-01,  2.7722e-01,\n",
       "          9.1280e-01,  5.2105e-01, -2.5549e-02, -7.2245e-01, -2.0173e-01,\n",
       "         -3.1763e-02, -9.1190e-01,  9.3950e-01, -5.4791e-02,  2.3775e-01,\n",
       "         -9.2642e-02, -5.8986e-02,  5.5153e-01, -1.7753e-01, -3.7412e-01,\n",
       "         -3.0713e-01, -7.3179e-01,  8.9369e-01, -1.9860e-01, -4.5436e-01,\n",
       "         -5.1354e-01,  7.0488e-01,  2.6542e-01,  9.9715e-01, -1.5817e-01,\n",
       "         -5.1730e-01, -2.4476e-01, -2.4036e-01,  2.6017e-01, -2.8945e-01,\n",
       "         -1.0000e+00,  4.2029e-01, -1.4138e-01,  2.0229e-01, -2.8328e-01,\n",
       "          1.8165e-01, -3.3790e-01, -9.8112e-01, -1.1746e-01,  4.8851e-02,\n",
       "          9.2832e-02, -4.8529e-01, -6.1237e-01,  5.2537e-01, -2.1332e-01,\n",
       "          7.9100e-01,  8.9052e-01,  2.9390e-02,  5.8748e-01,  5.7159e-01,\n",
       "          8.0724e-02, -6.6481e-01,  9.1761e-01]], grad_fn=<TanhBackward0>)"
      ]
     },
     "execution_count": 23,
     "metadata": {},
     "output_type": "execute_result"
    }
   ],
   "source": [
    "cls_head"
   ]
  },
  {
   "cell_type": "markdown",
   "metadata": {
    "id": "F3Kfvd3F_FLF"
   },
   "source": [
    "In the preceding code, hidden_rep contains the embedding(representation) of all the tokens in our input. Let's print the shape of hidden_rep tensor:"
   ]
  },
  {
   "cell_type": "code",
   "execution_count": 24,
   "metadata": {
    "colab": {
     "base_uri": "https://localhost:8080/"
    },
    "id": "Gx1RfsaU_FLF",
    "outputId": "8c50bb57-c886-4d3a-d029-e2c87e43adda"
   },
   "outputs": [
    {
     "name": "stdout",
     "output_type": "stream",
     "text": [
      "torch.Size([1, 7, 768])\n"
     ]
    }
   ],
   "source": [
    "print(hidden_rep.shape)\n"
   ]
  },
  {
   "cell_type": "markdown",
   "metadata": {
    "id": "zWxFowIS_FLG"
   },
   "source": [
    "The size [1,7,768] indicates the[batch_size, sequence_length, hidden_size].\n",
    "\n",
    "Our batch size is 1, the sequence length is the token length, since we have 7 tokens, the sequence length is 7, and the hidden size is the representation (embedding) size and it is 768 for the BERT-base model. \n",
    "\n",
    "We can obtain the representation of each token as: \n",
    "\n",
    "- hidden_rep[0][0] gives the representation of the first token which is [CLS]\n",
    "- hidden_rep[0][1] gives the representation of the second token which is 'I' \n",
    "- hidden_repo[0][2] gives the representation of the third token which is 'love' \n",
    "\n",
    "In this way, we can obtain the contextual representation of all the tokens. This is basically the contextualized word embeddings of all the words in the given sentence. \n",
    "\n",
    "Now, let's take a look at the cls_head. It contains the representation of the [CLS] token. Let's print the shape of cls_head :"
   ]
  },
  {
   "cell_type": "code",
   "execution_count": 25,
   "metadata": {
    "colab": {
     "base_uri": "https://localhost:8080/"
    },
    "id": "zAL6KEXw_FLI",
    "outputId": "fb3a0ca9-9a1a-44e2-f292-d0b2c3f9bd68"
   },
   "outputs": [
    {
     "name": "stdout",
     "output_type": "stream",
     "text": [
      "torch.Size([1, 768])\n"
     ]
    }
   ],
   "source": [
    "print(cls_head.shape)"
   ]
  },
  {
   "cell_type": "markdown",
   "metadata": {
    "id": "UL8eMwZY_FLJ"
   },
   "source": [
    "The above code will print:\n",
    "\n",
    "torch.Size([1, 768])\n",
    "\n",
    "The size [1,768] indicates the[batch_size, hidden_size].\n",
    "\n",
    "We learned that cls_head holds the aggregate representation of the sentence, so we can use the cls_head as the representation of the given sentence 'I love Paris'. \n",
    "\n",
    "We learned how to extract embeddings from the pre-trained BERT. But these are the embeddings obtained only from the topmost encoder layer of BERT which is encoder 12. Can we also extract the embeddings from all the encoder layers of BERT? Yes! We will find out how to do that in the next section. "
   ]
  }
 ],
 "metadata": {
  "colab": {
   "name": "3.03. Generating BERT embedding .ipynb",
   "provenance": []
  },
  "kernelspec": {
   "display_name": "Python 3 (ipykernel)",
   "language": "python",
   "name": "python3"
  },
  "language_info": {
   "codemirror_mode": {
    "name": "ipython",
    "version": 3
   },
   "file_extension": ".py",
   "mimetype": "text/x-python",
   "name": "python",
   "nbconvert_exporter": "python",
   "pygments_lexer": "ipython3",
   "version": "3.9.13"
  },
  "widgets": {
   "application/vnd.jupyter.widget-state+json": {
    "084587c872cb464f8afc0f88e6b33452": {
     "model_module": "@jupyter-widgets/base",
     "model_name": "LayoutModel",
     "state": {
      "_model_module": "@jupyter-widgets/base",
      "_model_module_version": "1.2.0",
      "_model_name": "LayoutModel",
      "_view_count": null,
      "_view_module": "@jupyter-widgets/base",
      "_view_module_version": "1.2.0",
      "_view_name": "LayoutView",
      "align_content": null,
      "align_items": null,
      "align_self": null,
      "border": null,
      "bottom": null,
      "display": null,
      "flex": null,
      "flex_flow": null,
      "grid_area": null,
      "grid_auto_columns": null,
      "grid_auto_flow": null,
      "grid_auto_rows": null,
      "grid_column": null,
      "grid_gap": null,
      "grid_row": null,
      "grid_template_areas": null,
      "grid_template_columns": null,
      "grid_template_rows": null,
      "height": null,
      "justify_content": null,
      "justify_items": null,
      "left": null,
      "margin": null,
      "max_height": null,
      "max_width": null,
      "min_height": null,
      "min_width": null,
      "object_fit": null,
      "object_position": null,
      "order": null,
      "overflow": null,
      "overflow_x": null,
      "overflow_y": null,
      "padding": null,
      "right": null,
      "top": null,
      "visibility": null,
      "width": null
     }
    },
    "08fc204525d24f0ca56c42c2890737ca": {
     "model_module": "@jupyter-widgets/base",
     "model_name": "LayoutModel",
     "state": {
      "_model_module": "@jupyter-widgets/base",
      "_model_module_version": "1.2.0",
      "_model_name": "LayoutModel",
      "_view_count": null,
      "_view_module": "@jupyter-widgets/base",
      "_view_module_version": "1.2.0",
      "_view_name": "LayoutView",
      "align_content": null,
      "align_items": null,
      "align_self": null,
      "border": null,
      "bottom": null,
      "display": null,
      "flex": null,
      "flex_flow": null,
      "grid_area": null,
      "grid_auto_columns": null,
      "grid_auto_flow": null,
      "grid_auto_rows": null,
      "grid_column": null,
      "grid_gap": null,
      "grid_row": null,
      "grid_template_areas": null,
      "grid_template_columns": null,
      "grid_template_rows": null,
      "height": null,
      "justify_content": null,
      "justify_items": null,
      "left": null,
      "margin": null,
      "max_height": null,
      "max_width": null,
      "min_height": null,
      "min_width": null,
      "object_fit": null,
      "object_position": null,
      "order": null,
      "overflow": null,
      "overflow_x": null,
      "overflow_y": null,
      "padding": null,
      "right": null,
      "top": null,
      "visibility": null,
      "width": null
     }
    },
    "1758400be5b14d1383a14be51f129388": {
     "model_module": "@jupyter-widgets/controls",
     "model_name": "HBoxModel",
     "state": {
      "_dom_classes": [],
      "_model_module": "@jupyter-widgets/controls",
      "_model_module_version": "1.5.0",
      "_model_name": "HBoxModel",
      "_view_count": null,
      "_view_module": "@jupyter-widgets/controls",
      "_view_module_version": "1.5.0",
      "_view_name": "HBoxView",
      "box_style": "",
      "children": [
       "IPY_MODEL_96a5d14686674cebaab3fe3457579f15",
       "IPY_MODEL_71872c1d14f04434a502db8328803169"
      ],
      "layout": "IPY_MODEL_66169204df0344a78bb29b5c66235f38"
     }
    },
    "2320668b356245449a2ba6991e21dc71": {
     "model_module": "@jupyter-widgets/base",
     "model_name": "LayoutModel",
     "state": {
      "_model_module": "@jupyter-widgets/base",
      "_model_module_version": "1.2.0",
      "_model_name": "LayoutModel",
      "_view_count": null,
      "_view_module": "@jupyter-widgets/base",
      "_view_module_version": "1.2.0",
      "_view_name": "LayoutView",
      "align_content": null,
      "align_items": null,
      "align_self": null,
      "border": null,
      "bottom": null,
      "display": null,
      "flex": null,
      "flex_flow": null,
      "grid_area": null,
      "grid_auto_columns": null,
      "grid_auto_flow": null,
      "grid_auto_rows": null,
      "grid_column": null,
      "grid_gap": null,
      "grid_row": null,
      "grid_template_areas": null,
      "grid_template_columns": null,
      "grid_template_rows": null,
      "height": null,
      "justify_content": null,
      "justify_items": null,
      "left": null,
      "margin": null,
      "max_height": null,
      "max_width": null,
      "min_height": null,
      "min_width": null,
      "object_fit": null,
      "object_position": null,
      "order": null,
      "overflow": null,
      "overflow_x": null,
      "overflow_y": null,
      "padding": null,
      "right": null,
      "top": null,
      "visibility": null,
      "width": null
     }
    },
    "420c835be5304faeb77864c5f924b768": {
     "model_module": "@jupyter-widgets/controls",
     "model_name": "HTMLModel",
     "state": {
      "_dom_classes": [],
      "_model_module": "@jupyter-widgets/controls",
      "_model_module_version": "1.5.0",
      "_model_name": "HTMLModel",
      "_view_count": null,
      "_view_module": "@jupyter-widgets/controls",
      "_view_module_version": "1.5.0",
      "_view_name": "HTMLView",
      "description": "",
      "description_tooltip": null,
      "layout": "IPY_MODEL_084587c872cb464f8afc0f88e6b33452",
      "placeholder": "​",
      "style": "IPY_MODEL_f7a38dcc24f14a298d540d8827554757",
      "value": " 440M/440M [00:07&lt;00:00, 61.5MB/s]"
     }
    },
    "66169204df0344a78bb29b5c66235f38": {
     "model_module": "@jupyter-widgets/base",
     "model_name": "LayoutModel",
     "state": {
      "_model_module": "@jupyter-widgets/base",
      "_model_module_version": "1.2.0",
      "_model_name": "LayoutModel",
      "_view_count": null,
      "_view_module": "@jupyter-widgets/base",
      "_view_module_version": "1.2.0",
      "_view_name": "LayoutView",
      "align_content": null,
      "align_items": null,
      "align_self": null,
      "border": null,
      "bottom": null,
      "display": null,
      "flex": null,
      "flex_flow": null,
      "grid_area": null,
      "grid_auto_columns": null,
      "grid_auto_flow": null,
      "grid_auto_rows": null,
      "grid_column": null,
      "grid_gap": null,
      "grid_row": null,
      "grid_template_areas": null,
      "grid_template_columns": null,
      "grid_template_rows": null,
      "height": null,
      "justify_content": null,
      "justify_items": null,
      "left": null,
      "margin": null,
      "max_height": null,
      "max_width": null,
      "min_height": null,
      "min_width": null,
      "object_fit": null,
      "object_position": null,
      "order": null,
      "overflow": null,
      "overflow_x": null,
      "overflow_y": null,
      "padding": null,
      "right": null,
      "top": null,
      "visibility": null,
      "width": null
     }
    },
    "67196c8f26d3422daf6c27589757b480": {
     "model_module": "@jupyter-widgets/controls",
     "model_name": "FloatProgressModel",
     "state": {
      "_dom_classes": [],
      "_model_module": "@jupyter-widgets/controls",
      "_model_module_version": "1.5.0",
      "_model_name": "FloatProgressModel",
      "_view_count": null,
      "_view_module": "@jupyter-widgets/controls",
      "_view_module_version": "1.5.0",
      "_view_name": "ProgressView",
      "bar_style": "success",
      "description": "Downloading: 100%",
      "description_tooltip": null,
      "layout": "IPY_MODEL_7de7bcd4a0d841298de7f5ac7e5cc81c",
      "max": 231508,
      "min": 0,
      "orientation": "horizontal",
      "style": "IPY_MODEL_6835f5dcea2e4832a1dc76dc28e24dd0",
      "value": 231508
     }
    },
    "6835f5dcea2e4832a1dc76dc28e24dd0": {
     "model_module": "@jupyter-widgets/controls",
     "model_name": "ProgressStyleModel",
     "state": {
      "_model_module": "@jupyter-widgets/controls",
      "_model_module_version": "1.5.0",
      "_model_name": "ProgressStyleModel",
      "_view_count": null,
      "_view_module": "@jupyter-widgets/base",
      "_view_module_version": "1.2.0",
      "_view_name": "StyleView",
      "bar_color": null,
      "description_width": "initial"
     }
    },
    "6e66fccb4d4e4518acdefab5a51c9708": {
     "model_module": "@jupyter-widgets/controls",
     "model_name": "DescriptionStyleModel",
     "state": {
      "_model_module": "@jupyter-widgets/controls",
      "_model_module_version": "1.5.0",
      "_model_name": "DescriptionStyleModel",
      "_view_count": null,
      "_view_module": "@jupyter-widgets/base",
      "_view_module_version": "1.2.0",
      "_view_name": "StyleView",
      "description_width": ""
     }
    },
    "71872c1d14f04434a502db8328803169": {
     "model_module": "@jupyter-widgets/controls",
     "model_name": "HTMLModel",
     "state": {
      "_dom_classes": [],
      "_model_module": "@jupyter-widgets/controls",
      "_model_module_version": "1.5.0",
      "_model_name": "HTMLModel",
      "_view_count": null,
      "_view_module": "@jupyter-widgets/controls",
      "_view_module_version": "1.5.0",
      "_view_name": "HTMLView",
      "description": "",
      "description_tooltip": null,
      "layout": "IPY_MODEL_d07c2f696ad544b7833925b73219da72",
      "placeholder": "​",
      "style": "IPY_MODEL_6e66fccb4d4e4518acdefab5a51c9708",
      "value": " 433/433 [00:00&lt;00:00, 7.42kB/s]"
     }
    },
    "7d1ef8f4cbfe46e1a8f9d6f6c944e93a": {
     "model_module": "@jupyter-widgets/controls",
     "model_name": "HTMLModel",
     "state": {
      "_dom_classes": [],
      "_model_module": "@jupyter-widgets/controls",
      "_model_module_version": "1.5.0",
      "_model_name": "HTMLModel",
      "_view_count": null,
      "_view_module": "@jupyter-widgets/controls",
      "_view_module_version": "1.5.0",
      "_view_name": "HTMLView",
      "description": "",
      "description_tooltip": null,
      "layout": "IPY_MODEL_8c7da9ea9fec4e7fbdc6ad56ee63c33f",
      "placeholder": "​",
      "style": "IPY_MODEL_c9bc07b32ba54e3cbe26bf13aec9ece9",
      "value": " 232k/232k [00:00&lt;00:00, 313kB/s]"
     }
    },
    "7de7bcd4a0d841298de7f5ac7e5cc81c": {
     "model_module": "@jupyter-widgets/base",
     "model_name": "LayoutModel",
     "state": {
      "_model_module": "@jupyter-widgets/base",
      "_model_module_version": "1.2.0",
      "_model_name": "LayoutModel",
      "_view_count": null,
      "_view_module": "@jupyter-widgets/base",
      "_view_module_version": "1.2.0",
      "_view_name": "LayoutView",
      "align_content": null,
      "align_items": null,
      "align_self": null,
      "border": null,
      "bottom": null,
      "display": null,
      "flex": null,
      "flex_flow": null,
      "grid_area": null,
      "grid_auto_columns": null,
      "grid_auto_flow": null,
      "grid_auto_rows": null,
      "grid_column": null,
      "grid_gap": null,
      "grid_row": null,
      "grid_template_areas": null,
      "grid_template_columns": null,
      "grid_template_rows": null,
      "height": null,
      "justify_content": null,
      "justify_items": null,
      "left": null,
      "margin": null,
      "max_height": null,
      "max_width": null,
      "min_height": null,
      "min_width": null,
      "object_fit": null,
      "object_position": null,
      "order": null,
      "overflow": null,
      "overflow_x": null,
      "overflow_y": null,
      "padding": null,
      "right": null,
      "top": null,
      "visibility": null,
      "width": null
     }
    },
    "8c195883eb9f453781baf994903a07c4": {
     "model_module": "@jupyter-widgets/controls",
     "model_name": "FloatProgressModel",
     "state": {
      "_dom_classes": [],
      "_model_module": "@jupyter-widgets/controls",
      "_model_module_version": "1.5.0",
      "_model_name": "FloatProgressModel",
      "_view_count": null,
      "_view_module": "@jupyter-widgets/controls",
      "_view_module_version": "1.5.0",
      "_view_name": "ProgressView",
      "bar_style": "success",
      "description": "Downloading: 100%",
      "description_tooltip": null,
      "layout": "IPY_MODEL_08fc204525d24f0ca56c42c2890737ca",
      "max": 440473133,
      "min": 0,
      "orientation": "horizontal",
      "style": "IPY_MODEL_ab9cede857e142f69b227bd15e7ac825",
      "value": 440473133
     }
    },
    "8c7da9ea9fec4e7fbdc6ad56ee63c33f": {
     "model_module": "@jupyter-widgets/base",
     "model_name": "LayoutModel",
     "state": {
      "_model_module": "@jupyter-widgets/base",
      "_model_module_version": "1.2.0",
      "_model_name": "LayoutModel",
      "_view_count": null,
      "_view_module": "@jupyter-widgets/base",
      "_view_module_version": "1.2.0",
      "_view_name": "LayoutView",
      "align_content": null,
      "align_items": null,
      "align_self": null,
      "border": null,
      "bottom": null,
      "display": null,
      "flex": null,
      "flex_flow": null,
      "grid_area": null,
      "grid_auto_columns": null,
      "grid_auto_flow": null,
      "grid_auto_rows": null,
      "grid_column": null,
      "grid_gap": null,
      "grid_row": null,
      "grid_template_areas": null,
      "grid_template_columns": null,
      "grid_template_rows": null,
      "height": null,
      "justify_content": null,
      "justify_items": null,
      "left": null,
      "margin": null,
      "max_height": null,
      "max_width": null,
      "min_height": null,
      "min_width": null,
      "object_fit": null,
      "object_position": null,
      "order": null,
      "overflow": null,
      "overflow_x": null,
      "overflow_y": null,
      "padding": null,
      "right": null,
      "top": null,
      "visibility": null,
      "width": null
     }
    },
    "96a5d14686674cebaab3fe3457579f15": {
     "model_module": "@jupyter-widgets/controls",
     "model_name": "FloatProgressModel",
     "state": {
      "_dom_classes": [],
      "_model_module": "@jupyter-widgets/controls",
      "_model_module_version": "1.5.0",
      "_model_name": "FloatProgressModel",
      "_view_count": null,
      "_view_module": "@jupyter-widgets/controls",
      "_view_module_version": "1.5.0",
      "_view_name": "ProgressView",
      "bar_style": "success",
      "description": "Downloading: 100%",
      "description_tooltip": null,
      "layout": "IPY_MODEL_e900b312c23641549d729f1e9f98849a",
      "max": 433,
      "min": 0,
      "orientation": "horizontal",
      "style": "IPY_MODEL_a54875acc17044a0b6683d9cc94ed95c",
      "value": 433
     }
    },
    "a1fc82d07a6c4a46bef6b105b3f53bac": {
     "model_module": "@jupyter-widgets/controls",
     "model_name": "HBoxModel",
     "state": {
      "_dom_classes": [],
      "_model_module": "@jupyter-widgets/controls",
      "_model_module_version": "1.5.0",
      "_model_name": "HBoxModel",
      "_view_count": null,
      "_view_module": "@jupyter-widgets/controls",
      "_view_module_version": "1.5.0",
      "_view_name": "HBoxView",
      "box_style": "",
      "children": [
       "IPY_MODEL_67196c8f26d3422daf6c27589757b480",
       "IPY_MODEL_7d1ef8f4cbfe46e1a8f9d6f6c944e93a"
      ],
      "layout": "IPY_MODEL_b36a5b3e28394ee39058c537572ecd72"
     }
    },
    "a54875acc17044a0b6683d9cc94ed95c": {
     "model_module": "@jupyter-widgets/controls",
     "model_name": "ProgressStyleModel",
     "state": {
      "_model_module": "@jupyter-widgets/controls",
      "_model_module_version": "1.5.0",
      "_model_name": "ProgressStyleModel",
      "_view_count": null,
      "_view_module": "@jupyter-widgets/base",
      "_view_module_version": "1.2.0",
      "_view_name": "StyleView",
      "bar_color": null,
      "description_width": "initial"
     }
    },
    "ab9cede857e142f69b227bd15e7ac825": {
     "model_module": "@jupyter-widgets/controls",
     "model_name": "ProgressStyleModel",
     "state": {
      "_model_module": "@jupyter-widgets/controls",
      "_model_module_version": "1.5.0",
      "_model_name": "ProgressStyleModel",
      "_view_count": null,
      "_view_module": "@jupyter-widgets/base",
      "_view_module_version": "1.2.0",
      "_view_name": "StyleView",
      "bar_color": null,
      "description_width": "initial"
     }
    },
    "b36a5b3e28394ee39058c537572ecd72": {
     "model_module": "@jupyter-widgets/base",
     "model_name": "LayoutModel",
     "state": {
      "_model_module": "@jupyter-widgets/base",
      "_model_module_version": "1.2.0",
      "_model_name": "LayoutModel",
      "_view_count": null,
      "_view_module": "@jupyter-widgets/base",
      "_view_module_version": "1.2.0",
      "_view_name": "LayoutView",
      "align_content": null,
      "align_items": null,
      "align_self": null,
      "border": null,
      "bottom": null,
      "display": null,
      "flex": null,
      "flex_flow": null,
      "grid_area": null,
      "grid_auto_columns": null,
      "grid_auto_flow": null,
      "grid_auto_rows": null,
      "grid_column": null,
      "grid_gap": null,
      "grid_row": null,
      "grid_template_areas": null,
      "grid_template_columns": null,
      "grid_template_rows": null,
      "height": null,
      "justify_content": null,
      "justify_items": null,
      "left": null,
      "margin": null,
      "max_height": null,
      "max_width": null,
      "min_height": null,
      "min_width": null,
      "object_fit": null,
      "object_position": null,
      "order": null,
      "overflow": null,
      "overflow_x": null,
      "overflow_y": null,
      "padding": null,
      "right": null,
      "top": null,
      "visibility": null,
      "width": null
     }
    },
    "c9bc07b32ba54e3cbe26bf13aec9ece9": {
     "model_module": "@jupyter-widgets/controls",
     "model_name": "DescriptionStyleModel",
     "state": {
      "_model_module": "@jupyter-widgets/controls",
      "_model_module_version": "1.5.0",
      "_model_name": "DescriptionStyleModel",
      "_view_count": null,
      "_view_module": "@jupyter-widgets/base",
      "_view_module_version": "1.2.0",
      "_view_name": "StyleView",
      "description_width": ""
     }
    },
    "d07c2f696ad544b7833925b73219da72": {
     "model_module": "@jupyter-widgets/base",
     "model_name": "LayoutModel",
     "state": {
      "_model_module": "@jupyter-widgets/base",
      "_model_module_version": "1.2.0",
      "_model_name": "LayoutModel",
      "_view_count": null,
      "_view_module": "@jupyter-widgets/base",
      "_view_module_version": "1.2.0",
      "_view_name": "LayoutView",
      "align_content": null,
      "align_items": null,
      "align_self": null,
      "border": null,
      "bottom": null,
      "display": null,
      "flex": null,
      "flex_flow": null,
      "grid_area": null,
      "grid_auto_columns": null,
      "grid_auto_flow": null,
      "grid_auto_rows": null,
      "grid_column": null,
      "grid_gap": null,
      "grid_row": null,
      "grid_template_areas": null,
      "grid_template_columns": null,
      "grid_template_rows": null,
      "height": null,
      "justify_content": null,
      "justify_items": null,
      "left": null,
      "margin": null,
      "max_height": null,
      "max_width": null,
      "min_height": null,
      "min_width": null,
      "object_fit": null,
      "object_position": null,
      "order": null,
      "overflow": null,
      "overflow_x": null,
      "overflow_y": null,
      "padding": null,
      "right": null,
      "top": null,
      "visibility": null,
      "width": null
     }
    },
    "e79a470be88c4c2e9c5a7cc7e3eca6b1": {
     "model_module": "@jupyter-widgets/controls",
     "model_name": "HBoxModel",
     "state": {
      "_dom_classes": [],
      "_model_module": "@jupyter-widgets/controls",
      "_model_module_version": "1.5.0",
      "_model_name": "HBoxModel",
      "_view_count": null,
      "_view_module": "@jupyter-widgets/controls",
      "_view_module_version": "1.5.0",
      "_view_name": "HBoxView",
      "box_style": "",
      "children": [
       "IPY_MODEL_8c195883eb9f453781baf994903a07c4",
       "IPY_MODEL_420c835be5304faeb77864c5f924b768"
      ],
      "layout": "IPY_MODEL_2320668b356245449a2ba6991e21dc71"
     }
    },
    "e900b312c23641549d729f1e9f98849a": {
     "model_module": "@jupyter-widgets/base",
     "model_name": "LayoutModel",
     "state": {
      "_model_module": "@jupyter-widgets/base",
      "_model_module_version": "1.2.0",
      "_model_name": "LayoutModel",
      "_view_count": null,
      "_view_module": "@jupyter-widgets/base",
      "_view_module_version": "1.2.0",
      "_view_name": "LayoutView",
      "align_content": null,
      "align_items": null,
      "align_self": null,
      "border": null,
      "bottom": null,
      "display": null,
      "flex": null,
      "flex_flow": null,
      "grid_area": null,
      "grid_auto_columns": null,
      "grid_auto_flow": null,
      "grid_auto_rows": null,
      "grid_column": null,
      "grid_gap": null,
      "grid_row": null,
      "grid_template_areas": null,
      "grid_template_columns": null,
      "grid_template_rows": null,
      "height": null,
      "justify_content": null,
      "justify_items": null,
      "left": null,
      "margin": null,
      "max_height": null,
      "max_width": null,
      "min_height": null,
      "min_width": null,
      "object_fit": null,
      "object_position": null,
      "order": null,
      "overflow": null,
      "overflow_x": null,
      "overflow_y": null,
      "padding": null,
      "right": null,
      "top": null,
      "visibility": null,
      "width": null
     }
    },
    "f7a38dcc24f14a298d540d8827554757": {
     "model_module": "@jupyter-widgets/controls",
     "model_name": "DescriptionStyleModel",
     "state": {
      "_model_module": "@jupyter-widgets/controls",
      "_model_module_version": "1.5.0",
      "_model_name": "DescriptionStyleModel",
      "_view_count": null,
      "_view_module": "@jupyter-widgets/base",
      "_view_module_version": "1.2.0",
      "_view_name": "StyleView",
      "description_width": ""
     }
    }
   }
  }
 },
 "nbformat": 4,
 "nbformat_minor": 1
}
